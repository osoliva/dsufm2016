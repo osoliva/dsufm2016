{
 "cells": [
  {
   "cell_type": "markdown",
   "metadata": {},
   "source": [
    "## ¿Qué características tienen los grupos a los que se les cotiza los seguros más baratos?\n",
    "\n",
    "La variables a analizar \n",
    "\n",
    "\"group_size','car_age','age_oldest','state','homeowner','car_value','risk_factor\"\n",
    "\n",
    "Empezamos cargando nuestra librerias"
   ]
  },
  {
   "cell_type": "code",
   "execution_count": 2,
   "metadata": {
    "collapsed": true
   },
   "outputs": [],
   "source": [
    "import pandas as pd\n",
    "import numpy as np\n",
    "import matplotlib.pyplot as plt\n",
    "import seaborn as sns\n"
   ]
  },
  {
   "cell_type": "code",
   "execution_count": 24,
   "metadata": {
    "collapsed": true
   },
   "outputs": [],
   "source": [
    "%matplotlib inline"
   ]
  },
  {
   "cell_type": "markdown",
   "metadata": {},
   "source": [
    "Ahora cargamos las base de datos"
   ]
  },
  {
   "cell_type": "code",
   "execution_count": 3,
   "metadata": {
    "collapsed": false
   },
   "outputs": [],
   "source": [
    "from_csv = pd.read_csv(\"C:\\Users\\Oscar/allstate.csv\")\n",
    "\n",
    "allstate = from_csv"
   ]
  },
  {
   "cell_type": "markdown",
   "metadata": {},
   "source": [
    "Veamos la información"
   ]
  },
  {
   "cell_type": "code",
   "execution_count": 5,
   "metadata": {
    "collapsed": false
   },
   "outputs": [
    {
     "name": "stdout",
     "output_type": "stream",
     "text": [
      "<class 'pandas.core.frame.DataFrame'>\n",
      "RangeIndex: 665249 entries, 0 to 665248\n",
      "Data columns (total 25 columns):\n",
      "customer_ID          665249 non-null int64\n",
      "shopping_pt          665249 non-null int64\n",
      "record_type          665249 non-null int64\n",
      "day                  665249 non-null int64\n",
      "time                 665249 non-null object\n",
      "state                665249 non-null object\n",
      "location             665249 non-null int64\n",
      "group_size           665249 non-null int64\n",
      "homeowner            665249 non-null int64\n",
      "car_age              665249 non-null int64\n",
      "car_value            663718 non-null object\n",
      "risk_factor          424831 non-null float64\n",
      "age_oldest           665249 non-null int64\n",
      "age_youngest         665249 non-null int64\n",
      "married_couple       665249 non-null int64\n",
      "C_previous           646538 non-null float64\n",
      "duration_previous    646538 non-null float64\n",
      "A                    665249 non-null int64\n",
      "B                    665249 non-null int64\n",
      "C                    665249 non-null int64\n",
      "D                    665249 non-null int64\n",
      "E                    665249 non-null int64\n",
      "F                    665249 non-null int64\n",
      "G                    665249 non-null int64\n",
      "cost                 665249 non-null int64\n",
      "dtypes: float64(3), int64(19), object(3)\n",
      "memory usage: 126.9+ MB\n"
     ]
    }
   ],
   "source": [
    "allstate.info()"
   ]
  },
  {
   "cell_type": "markdown",
   "metadata": {},
   "source": [
    "A continuación discriminaremos que valores del costo usaremos y veremos la moda del estado."
   ]
  },
  {
   "cell_type": "code",
   "execution_count": 10,
   "metadata": {
    "collapsed": false
   },
   "outputs": [
    {
     "data": {
      "text/plain": [
       "0    FL\n",
       "dtype: object"
      ]
     },
     "execution_count": 10,
     "metadata": {},
     "output_type": "execute_result"
    }
   ],
   "source": [
    "a = allstate[(allstate.cost<605)]\n",
    "a.state.mode()\n",
    "#El estado que más se repite es Florida"
   ]
  },
  {
   "cell_type": "markdown",
   "metadata": {},
   "source": [
    " Vamos a encontrar la Moda de car_value para demostrar que E es el valor que más se repite."
   ]
  },
  {
   "cell_type": "code",
   "execution_count": 23,
   "metadata": {
    "collapsed": false
   },
   "outputs": [
    {
     "data": {
      "text/plain": [
       "0    e\n",
       "dtype: object"
      ]
     },
     "execution_count": 23,
     "metadata": {},
     "output_type": "execute_result"
    }
   ],
   "source": [
    "a.car_value.mode()\n",
    "\n"
   ]
  },
  {
   "cell_type": "markdown",
   "metadata": {
    "collapsed": true
   },
   "source": [
    "Vamos a demostrar que el factor de riesgo que más se repite es 1"
   ]
  },
  {
   "cell_type": "code",
   "execution_count": 11,
   "metadata": {
    "collapsed": false
   },
   "outputs": [
    {
     "data": {
      "text/plain": [
       "0    1.0\n",
       "dtype: float64"
      ]
     },
     "execution_count": 11,
     "metadata": {},
     "output_type": "execute_result"
    }
   ],
   "source": [
    "a.risk_factor.mode()"
   ]
  },
  {
   "cell_type": "code",
   "execution_count": null,
   "metadata": {
    "collapsed": true
   },
   "outputs": [],
   "source": [
    "Vamos a graficar la variable de age para ver si es relevante esta variable."
   ]
  },
  {
   "cell_type": "code",
   "execution_count": 16,
   "metadata": {
    "collapsed": false
   },
   "outputs": [
    {
     "data": {
      "text/plain": [
       "<matplotlib.axes._subplots.AxesSubplot at 0x129d64e0>"
      ]
     },
     "execution_count": 16,
     "metadata": {},
     "output_type": "execute_result"
    }
   ],
   "source": [
    "sns.distplot(a.age_oldest)"
   ]
  },
  {
   "cell_type": "markdown",
   "metadata": {},
   "source": [
    "Vamos a encontrar la moda de la edad que es 75"
   ]
  },
  {
   "cell_type": "code",
   "execution_count": 14,
   "metadata": {
    "collapsed": false
   },
   "outputs": [
    {
     "data": {
      "text/plain": [
       "0    75\n",
       "dtype: int64"
      ]
     },
     "execution_count": 14,
     "metadata": {},
     "output_type": "execute_result"
    }
   ],
   "source": [
    "a.age_oldest.mode()"
   ]
  },
  {
   "cell_type": "markdown",
   "metadata": {},
   "source": [
    "Vamos a aislar la moda para ver qué otra edad es relevante, el resultado fue 64"
   ]
  },
  {
   "cell_type": "code",
   "execution_count": 15,
   "metadata": {
    "collapsed": false
   },
   "outputs": [
    {
     "data": {
      "text/plain": [
       "0    64\n",
       "dtype: int64"
      ]
     },
     "execution_count": 15,
     "metadata": {},
     "output_type": "execute_result"
    }
   ],
   "source": [
    "menores = a[(a.age_oldest<75)]\n",
    "sns.distplot(menores.age_oldest)\n",
    "menores.age_oldest.mode()"
   ]
  },
  {
   "cell_type": "markdown",
   "metadata": {},
   "source": [
    "A continuación veremos si  el tamaño del grupo afecta el costo de los seguros"
   ]
  },
  {
   "cell_type": "code",
   "execution_count": 19,
   "metadata": {
    "collapsed": false
   },
   "outputs": [
    {
     "data": {
      "text/plain": [
       "count    9551.000000\n",
       "mean      653.520574\n",
       "std        46.412753\n",
       "min       346.000000\n",
       "25%       621.000000\n",
       "50%       654.000000\n",
       "75%       684.000000\n",
       "max       881.000000\n",
       "Name: cost, dtype: float64"
      ]
     },
     "execution_count": 19,
     "metadata": {},
     "output_type": "execute_result"
    }
   ],
   "source": [
    "b =allstate[(allstate.group_size > 1)]\n",
    "b.cost.describe()"
   ]
  },
  {
   "cell_type": "code",
   "execution_count": null,
   "metadata": {
    "collapsed": true
   },
   "outputs": [],
   "source": [
    "A continuación veremos si el tamaño de un grupo aun mas grande afecta el costo de los seguros."
   ]
  },
  {
   "cell_type": "code",
   "execution_count": 20,
   "metadata": {
    "collapsed": false
   },
   "outputs": [
    {
     "data": {
      "text/plain": [
       "count    9551.000000\n",
       "mean      653.520574\n",
       "std        46.412753\n",
       "min       346.000000\n",
       "25%       621.000000\n",
       "50%       654.000000\n",
       "75%       684.000000\n",
       "max       881.000000\n",
       "Name: cost, dtype: float64"
      ]
     },
     "execution_count": 20,
     "metadata": {},
     "output_type": "execute_result"
    }
   ],
   "source": [
    "\n",
    "c =allstate[(allstate.group_size > 2)]\n",
    "c.cost.describe()\n"
   ]
  },
  {
   "cell_type": "markdown",
   "metadata": {},
   "source": [
    "concluimos que el tamaño del grupo no afecta el costo promedio."
   ]
  },
  {
   "cell_type": "markdown",
   "metadata": {},
   "source": [
    "A continuación demostraremos que el car age más común está entre 8 y 12 años en los seguros más baratos en comparación a los seguros más caros que son de carros más nuevos"
   ]
  },
  {
   "cell_type": "code",
   "execution_count": 25,
   "metadata": {
    "collapsed": false
   },
   "outputs": [
    {
     "data": {
      "text/plain": [
       "count    166104.000000\n",
       "mean         10.569818\n",
       "std           6.389780\n",
       "min           0.000000\n",
       "25%           6.000000\n",
       "50%          10.000000\n",
       "75%          14.000000\n",
       "max          75.000000\n",
       "Name: car_age, dtype: float64"
      ]
     },
     "execution_count": 25,
     "metadata": {},
     "output_type": "execute_result"
    }
   ],
   "source": [
    "a.car_age.describe()\n"
   ]
  },
  {
   "cell_type": "code",
   "execution_count": 26,
   "metadata": {
    "collapsed": false
   },
   "outputs": [
    {
     "data": {
      "text/plain": [
       "<matplotlib.axes._subplots.AxesSubplot at 0xd68db38>"
      ]
     },
     "execution_count": 26,
     "metadata": {},
     "output_type": "execute_result"
    },
    {
     "data": {
      "image/png": "[encoded data removed]",
      "text/plain": [
       "<matplotlib.figure.Figure at 0xd68d5f8>"
      ]
     },
     "metadata": {},
     "output_type": "display_data"
    }
   ],
   "source": [
    "sns.distplot(a.car_age)\n"
   ]
  },
  {
   "cell_type": "code",
   "execution_count": null,
   "metadata": {
    "collapsed": true
   },
   "outputs": [],
   "source": []
  },
  {
   "cell_type": "code",
   "execution_count": null,
   "metadata": {
    "collapsed": true
   },
   "outputs": [],
   "source": [
    "sns.distplot(allstate.car_age)"
   ]
  },
  {
   "cell_type": "markdown",
   "metadata": {},
   "source": [
    "A continuación demostraremos que por lo regular los seguros más baratos los tienen los dueños de casas"
   ]
  },
  {
   "cell_type": "code",
   "execution_count": 23,
   "metadata": {
    "collapsed": false
   },
   "outputs": [
    {
     "data": {
      "text/plain": [
       "count    166104.000000\n",
       "mean          0.674385\n",
       "std           0.468606\n",
       "min           0.000000\n",
       "25%           0.000000\n",
       "50%           1.000000\n",
       "75%           1.000000\n",
       "max           1.000000\n",
       "Name: homeowner, dtype: float64"
      ]
     },
     "execution_count": 23,
     "metadata": {},
     "output_type": "execute_result"
    }
   ],
   "source": [
    "a.homeowner.describe()"
   ]
  },
  {
   "cell_type": "markdown",
   "metadata": {},
   "source": [
    "#Nuestra conclusión es que las personas a quienes se les cotiza seguros más baratos viven frecuentemente en florida, tienen un carro con valor E(bajo), su factor de riesgo es bajo (1), su edad es de 75 años frecuentemente ,sus carros tienen entre 8 y 12 años de antiguedad y frecuentemente son dueños de casas. Estos datos tienen sentido ya que estas características pueden reducir costos."
   ]
  }
 ],
 "metadata": {
  "kernelspec": {
   "display_name": "Python 2",
   "language": "python",
   "name": "python2"
  },
  "language_info": {
   "codemirror_mode": {
    "name": "ipython",
    "version": 2
   },
   "file_extension": ".py",
   "mimetype": "text/x-python",
   "name": "python",
   "nbconvert_exporter": "python",
   "pygments_lexer": "ipython2",
   "version": "2.7.11"
  }
 },
 "nbformat": 4,
 "nbformat_minor": 0
}
